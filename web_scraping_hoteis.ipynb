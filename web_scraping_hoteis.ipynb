{
  "nbformat": 4,
  "nbformat_minor": 0,
  "metadata": {
    "colab": {
      "provenance": [],
      "authorship_tag": "ABX9TyPgua9oiaMBJBZu9examNVZ",
      "include_colab_link": true
    },
    "kernelspec": {
      "name": "python3",
      "display_name": "Python 3"
    },
    "language_info": {
      "name": "python"
    }
  },
  "cells": [
    {
      "cell_type": "markdown",
      "metadata": {
        "id": "view-in-github",
        "colab_type": "text"
      },
      "source": [
        "<a href=\"https://colab.research.google.com/github/filipecarbonera/Web-Scraping-Hoteis/blob/main/web_scraping_hoteis.ipynb\" target=\"_parent\"><img src=\"https://colab.research.google.com/assets/colab-badge.svg\" alt=\"Open In Colab\"/></a>"
      ]
    },
    {
      "cell_type": "markdown",
      "metadata": {
        "id": "1OF9ebylwKfh"
      },
      "source": [
        "# **Projeto:** Web Scraping Hoteis\n",
        "\n",
        "[Link do Repositório no Github.](https://github.com/filipecarbonera/Web-Scraping-Hoteis)"
      ]
    },
    {
      "cell_type": "markdown",
      "metadata": {
        "id": "-GdLBkGB_2Oa"
      },
      "source": [
        "Um dos meus grandes sonhos é conhecer a Europa e, por minha família ser de origem italiana, nada mais justo que a Itália ser um dos primeiros países que eu queira visitar.\n",
        "\n",
        "Como de costume, se eu for para um local desconhecido, quero me hospedar em um hostel para aumentar a chance de conhecer pessoas e fazer novas amizades.\n",
        "\n",
        "Por isso, nesse projeto vou buscar algumas informações em um site referência em hostels pelo mundo.\n",
        "\n",
        "Algumas delas vão me servir para auxiliar na decisão de que locar ficar quando fizer minha viagem, mas vou aproveitar o projeto para buscar outras informações e fazer um projeto de análise de dados mais abrangente."
      ]
    },
    {
      "cell_type": "markdown",
      "metadata": {
        "id": "i0eZW09RkRrk"
      },
      "source": [
        "## Web Scraping"
      ]
    },
    {
      "cell_type": "markdown",
      "metadata": {
        "id": "gDw_-tU6wUsy"
      },
      "source": [
        "Site: https://www.hostelworld.com/hostels/Rome\n",
        "\n",
        "Informações que irei buscar:\n",
        "- Nome do hostel\n",
        "- Link para a página do hostel\n",
        "- Distância do hostel até o centro da cidade\n",
        "- Nota média de avaliação\n",
        "- Preço médio por noite, em USD\n",
        "- Número de avaliações feitas para aquele local"
      ]
    },
    {
      "cell_type": "code",
      "metadata": {
        "id": "CQgx6iiikPT0"
      },
      "source": [
        "#Importando as bibliotecas necessárias.\n",
        "from requests import get\n",
        "from bs4 import BeautifulSoup\n",
        "import pandas as pd\n",
        "import numpy as np"
      ],
      "execution_count": null,
      "outputs": []
    },
    {
      "cell_type": "code",
      "metadata": {
        "id": "IvzFUG_ERZhk"
      },
      "source": [
        "# Criando as listas necessárias para armazenar as informações que serão buscadas.\n",
        "hostel_names= []\n",
        "hostel_links= []\n",
        "hostel_distance= []\n",
        "hostel_ratings= []\n",
        "hostel_reviews= []\n",
        "hostel_prices= []\n",
        "\n",
        "# Iterando as páginas para buscar a informação completa de todos os hostels cadastrados da cidade.\n",
        "for pagina in np.arange(1,6):\n",
        "  url = 'https://www.hostelworld.com/hostels/Rome?page=' + str(pagina) # Buscando as páginas de acordo com o padrão de url do site.\n",
        "  dados_url = get(url)\n",
        "  soup = BeautifulSoup(dados_url.text, 'html.parser')\n",
        "  hostel_containers= soup.findAll(class_= 'fabresult rounded clearfix hwta-property') # Buscando os containers de informações.\n",
        "\n",
        "# Iterando os contêineres o atribuindo a cada uma das listas o valor correspondente.\n",
        "  for i in range(len(hostel_containers)):\n",
        "    hostel_names.append(hostel_containers[i].h2.a.text)\n",
        "    hostel_links.append(hostel_containers[i].h2.a.get('href'))\n",
        "    hostel_distance.append(hostel_containers[i].find(class_= \"addressline\").text[12:18].replace('k','').replace('m','').replace('fr','').strip())\n",
        "    hostel_ratings.append(hostel_containers[i].find(class_ = \"hwta-rating-score\").text.strip())\n",
        "    hostel_reviews.append(hostel_containers[i].find(class_=\"hwta-rating-counter\").text.strip())\n",
        "    hostel_prices.append(hostel_containers[i].find(class_= \"minprice clearfix\").text[4:10].replace('P','').strip())\n"
      ],
      "execution_count": null,
      "outputs": []
    },
    {
      "cell_type": "markdown",
      "metadata": {
        "id": "SYBkCPNgwZvq"
      },
      "source": [
        "## Feature engineering:"
      ]
    },
    {
      "cell_type": "code",
      "metadata": {
        "colab": {
          "base_uri": "https://localhost:8080/",
          "height": 423
        },
        "id": "1aATkuG3N1k_",
        "outputId": "367b5571-7525-49e0-a4ce-b58e02162c3b"
      },
      "source": [
        "# Transformando o conjunto de listas em um dataframe único do Pandas.\n",
        "df_rome = pd.DataFrame(\n",
        "    {\n",
        "     'nome': hostel_names,\n",
        "     'distancia_centro': hostel_distance,\n",
        "     'nota': hostel_ratings,\n",
        "     'aval_num': hostel_reviews,\n",
        "     'preco': hostel_prices,\n",
        "     'link': hostel_links,\n",
        "    }\n",
        ")\n",
        "\n",
        "# Visualizando o dataframe criado após o web-scraping.\n",
        "df_rome"
      ],
      "execution_count": null,
      "outputs": [
        {
          "output_type": "execute_result",
          "data": {
            "text/html": [
              "<div>\n",
              "<style scoped>\n",
              "    .dataframe tbody tr th:only-of-type {\n",
              "        vertical-align: middle;\n",
              "    }\n",
              "\n",
              "    .dataframe tbody tr th {\n",
              "        vertical-align: top;\n",
              "    }\n",
              "\n",
              "    .dataframe thead th {\n",
              "        text-align: right;\n",
              "    }\n",
              "</style>\n",
              "<table border=\"1\" class=\"dataframe\">\n",
              "  <thead>\n",
              "    <tr style=\"text-align: right;\">\n",
              "      <th></th>\n",
              "      <th>nome</th>\n",
              "      <th>distancia_centro</th>\n",
              "      <th>nota</th>\n",
              "      <th>aval_num</th>\n",
              "      <th>preco</th>\n",
              "      <th>link</th>\n",
              "    </tr>\n",
              "  </thead>\n",
              "  <tbody>\n",
              "    <tr>\n",
              "      <th>0</th>\n",
              "      <td>YellowSquare Rome</td>\n",
              "      <td>1.8</td>\n",
              "      <td>8.9</td>\n",
              "      <td>20304</td>\n",
              "      <td>14.44</td>\n",
              "      <td>https://www.hostelworld.com/hosteldetails.php/...</td>\n",
              "    </tr>\n",
              "    <tr>\n",
              "      <th>1</th>\n",
              "      <td>The RomeHello Hostel</td>\n",
              "      <td>1</td>\n",
              "      <td>9.7</td>\n",
              "      <td>1996</td>\n",
              "      <td>18.99</td>\n",
              "      <td>https://www.hostelworld.com/hosteldetails.php/...</td>\n",
              "    </tr>\n",
              "    <tr>\n",
              "      <th>2</th>\n",
              "      <td>Free Hostels Roma</td>\n",
              "      <td>2.3</td>\n",
              "      <td>9.3</td>\n",
              "      <td>504</td>\n",
              "      <td>18.05</td>\n",
              "      <td>https://www.hostelworld.com/hosteldetails.php/...</td>\n",
              "    </tr>\n",
              "    <tr>\n",
              "      <th>3</th>\n",
              "      <td>Alessandro Palace &amp; Bar</td>\n",
              "      <td>1.8</td>\n",
              "      <td>8.3</td>\n",
              "      <td>12654</td>\n",
              "      <td>15.57</td>\n",
              "      <td>https://www.hostelworld.com/hosteldetails.php/...</td>\n",
              "    </tr>\n",
              "    <tr>\n",
              "      <th>4</th>\n",
              "      <td>Freedom Traveller</td>\n",
              "      <td>1.5</td>\n",
              "      <td>7.9</td>\n",
              "      <td>6635</td>\n",
              "      <td>13.54</td>\n",
              "      <td>https://www.hostelworld.com/hosteldetails.php/...</td>\n",
              "    </tr>\n",
              "    <tr>\n",
              "      <th>...</th>\n",
              "      <td>...</td>\n",
              "      <td>...</td>\n",
              "      <td>...</td>\n",
              "      <td>...</td>\n",
              "      <td>...</td>\n",
              "      <td>...</td>\n",
              "    </tr>\n",
              "    <tr>\n",
              "      <th>145</th>\n",
              "      <td>Tolentino B&amp;B</td>\n",
              "      <td>0.7</td>\n",
              "      <td>3.7</td>\n",
              "      <td>21</td>\n",
              "      <td>58.38</td>\n",
              "      <td>https://www.hostelworld.com/hosteldetails.php/...</td>\n",
              "    </tr>\n",
              "    <tr>\n",
              "      <th>146</th>\n",
              "      <td>My sweet rooms</td>\n",
              "      <td>4.7</td>\n",
              "      <td>0.0</td>\n",
              "      <td>0</td>\n",
              "      <td>28.77</td>\n",
              "      <td>https://www.hostelworld.com/hosteldetails.php/...</td>\n",
              "    </tr>\n",
              "    <tr>\n",
              "      <th>147</th>\n",
              "      <td>Dulcis in Fundo</td>\n",
              "      <td>2</td>\n",
              "      <td>0.0</td>\n",
              "      <td>1</td>\n",
              "      <td>33.84</td>\n",
              "      <td>https://www.hostelworld.com/hosteldetails.php/...</td>\n",
              "    </tr>\n",
              "    <tr>\n",
              "      <th>148</th>\n",
              "      <td>Residenza Doro'</td>\n",
              "      <td>3.2</td>\n",
              "      <td>0.0</td>\n",
              "      <td>1</td>\n",
              "      <td>33.84</td>\n",
              "      <td>https://www.hostelworld.com/hosteldetails.php/...</td>\n",
              "    </tr>\n",
              "    <tr>\n",
              "      <th>149</th>\n",
              "      <td>The Cross Hotel</td>\n",
              "      <td>2.6</td>\n",
              "      <td>0.0</td>\n",
              "      <td>0</td>\n",
              "      <td>29.70</td>\n",
              "      <td>https://www.hostelworld.com/hosteldetails.php/...</td>\n",
              "    </tr>\n",
              "  </tbody>\n",
              "</table>\n",
              "<p>150 rows × 6 columns</p>\n",
              "</div>"
            ],
            "text/plain": [
              "                        nome  ...                                               link\n",
              "0          YellowSquare Rome  ...  https://www.hostelworld.com/hosteldetails.php/...\n",
              "1       The RomeHello Hostel  ...  https://www.hostelworld.com/hosteldetails.php/...\n",
              "2          Free Hostels Roma  ...  https://www.hostelworld.com/hosteldetails.php/...\n",
              "3    Alessandro Palace & Bar  ...  https://www.hostelworld.com/hosteldetails.php/...\n",
              "4          Freedom Traveller  ...  https://www.hostelworld.com/hosteldetails.php/...\n",
              "..                       ...  ...                                                ...\n",
              "145            Tolentino B&B  ...  https://www.hostelworld.com/hosteldetails.php/...\n",
              "146           My sweet rooms  ...  https://www.hostelworld.com/hosteldetails.php/...\n",
              "147          Dulcis in Fundo  ...  https://www.hostelworld.com/hosteldetails.php/...\n",
              "148          Residenza Doro'  ...  https://www.hostelworld.com/hosteldetails.php/...\n",
              "149          The Cross Hotel  ...  https://www.hostelworld.com/hosteldetails.php/...\n",
              "\n",
              "[150 rows x 6 columns]"
            ]
          },
          "metadata": {},
          "execution_count": 3
        }
      ]
    },
    {
      "cell_type": "code",
      "metadata": {
        "colab": {
          "base_uri": "https://localhost:8080/"
        },
        "id": "4jv-eCmzXcZ7",
        "outputId": "4fb94602-9dbc-40e1-e3bd-4ad0d8c64166"
      },
      "source": [
        "df_rome.info()"
      ],
      "execution_count": null,
      "outputs": [
        {
          "output_type": "stream",
          "name": "stdout",
          "text": [
            "<class 'pandas.core.frame.DataFrame'>\n",
            "RangeIndex: 150 entries, 0 to 149\n",
            "Data columns (total 6 columns):\n",
            " #   Column            Non-Null Count  Dtype \n",
            "---  ------            --------------  ----- \n",
            " 0   nome              150 non-null    object\n",
            " 1   distancia_centro  150 non-null    object\n",
            " 2   nota              150 non-null    object\n",
            " 3   aval_num          150 non-null    object\n",
            " 4   preco             150 non-null    object\n",
            " 5   link              150 non-null    object\n",
            "dtypes: object(6)\n",
            "memory usage: 7.2+ KB\n"
          ]
        }
      ]
    },
    {
      "cell_type": "code",
      "metadata": {
        "id": "bFzSpgtmZ0z6"
      },
      "source": [
        "# Transformando o tipo de dados de algumas colunas para melhor trabalhar com eles futuramente.\n",
        "df_rome['distancia_centro'] = df_rome['distancia_centro'].astype(float)\n",
        "df_rome['nota'] = df_rome['nota'].astype(float)\n",
        "df_rome['aval_num'] = df_rome['aval_num'].astype(int)\n",
        "df_rome['preco'] = df_rome['preco'].astype(float)"
      ],
      "execution_count": null,
      "outputs": []
    },
    {
      "cell_type": "code",
      "metadata": {
        "colab": {
          "base_uri": "https://localhost:8080/"
        },
        "id": "fWdJqCT-ayd1",
        "outputId": "3e8d98e1-156f-49d5-80f3-39d2cf32932b"
      },
      "source": [
        "df_rome.info()"
      ],
      "execution_count": null,
      "outputs": [
        {
          "output_type": "stream",
          "name": "stdout",
          "text": [
            "<class 'pandas.core.frame.DataFrame'>\n",
            "RangeIndex: 150 entries, 0 to 149\n",
            "Data columns (total 6 columns):\n",
            " #   Column            Non-Null Count  Dtype  \n",
            "---  ------            --------------  -----  \n",
            " 0   nome              150 non-null    object \n",
            " 1   distancia_centro  150 non-null    float64\n",
            " 2   nota              150 non-null    float64\n",
            " 3   aval_num          150 non-null    int64  \n",
            " 4   preco             150 non-null    float64\n",
            " 5   link              150 non-null    object \n",
            "dtypes: float64(3), int64(1), object(2)\n",
            "memory usage: 7.2+ KB\n"
          ]
        }
      ]
    },
    {
      "cell_type": "code",
      "metadata": {
        "colab": {
          "base_uri": "https://localhost:8080/",
          "height": 206
        },
        "id": "jmCaTYcNunD8",
        "outputId": "ae702471-78c3-4b7a-b3b1-05be9527abfe"
      },
      "source": [
        "df_rome.head()"
      ],
      "execution_count": null,
      "outputs": [
        {
          "output_type": "execute_result",
          "data": {
            "text/html": [
              "<div>\n",
              "<style scoped>\n",
              "    .dataframe tbody tr th:only-of-type {\n",
              "        vertical-align: middle;\n",
              "    }\n",
              "\n",
              "    .dataframe tbody tr th {\n",
              "        vertical-align: top;\n",
              "    }\n",
              "\n",
              "    .dataframe thead th {\n",
              "        text-align: right;\n",
              "    }\n",
              "</style>\n",
              "<table border=\"1\" class=\"dataframe\">\n",
              "  <thead>\n",
              "    <tr style=\"text-align: right;\">\n",
              "      <th></th>\n",
              "      <th>nome</th>\n",
              "      <th>distancia_centro</th>\n",
              "      <th>nota</th>\n",
              "      <th>aval_num</th>\n",
              "      <th>preco</th>\n",
              "      <th>link</th>\n",
              "    </tr>\n",
              "  </thead>\n",
              "  <tbody>\n",
              "    <tr>\n",
              "      <th>0</th>\n",
              "      <td>YellowSquare Rome</td>\n",
              "      <td>1.8</td>\n",
              "      <td>8.9</td>\n",
              "      <td>20304</td>\n",
              "      <td>14.44</td>\n",
              "      <td>https://www.hostelworld.com/hosteldetails.php/...</td>\n",
              "    </tr>\n",
              "    <tr>\n",
              "      <th>1</th>\n",
              "      <td>The RomeHello Hostel</td>\n",
              "      <td>1.0</td>\n",
              "      <td>9.7</td>\n",
              "      <td>1996</td>\n",
              "      <td>18.99</td>\n",
              "      <td>https://www.hostelworld.com/hosteldetails.php/...</td>\n",
              "    </tr>\n",
              "    <tr>\n",
              "      <th>2</th>\n",
              "      <td>Free Hostels Roma</td>\n",
              "      <td>2.3</td>\n",
              "      <td>9.3</td>\n",
              "      <td>504</td>\n",
              "      <td>18.05</td>\n",
              "      <td>https://www.hostelworld.com/hosteldetails.php/...</td>\n",
              "    </tr>\n",
              "    <tr>\n",
              "      <th>3</th>\n",
              "      <td>Alessandro Palace &amp; Bar</td>\n",
              "      <td>1.8</td>\n",
              "      <td>8.3</td>\n",
              "      <td>12654</td>\n",
              "      <td>15.57</td>\n",
              "      <td>https://www.hostelworld.com/hosteldetails.php/...</td>\n",
              "    </tr>\n",
              "    <tr>\n",
              "      <th>4</th>\n",
              "      <td>Freedom Traveller</td>\n",
              "      <td>1.5</td>\n",
              "      <td>7.9</td>\n",
              "      <td>6635</td>\n",
              "      <td>13.54</td>\n",
              "      <td>https://www.hostelworld.com/hosteldetails.php/...</td>\n",
              "    </tr>\n",
              "  </tbody>\n",
              "</table>\n",
              "</div>"
            ],
            "text/plain": [
              "                      nome  ...                                               link\n",
              "0        YellowSquare Rome  ...  https://www.hostelworld.com/hosteldetails.php/...\n",
              "1     The RomeHello Hostel  ...  https://www.hostelworld.com/hosteldetails.php/...\n",
              "2        Free Hostels Roma  ...  https://www.hostelworld.com/hosteldetails.php/...\n",
              "3  Alessandro Palace & Bar  ...  https://www.hostelworld.com/hosteldetails.php/...\n",
              "4        Freedom Traveller  ...  https://www.hostelworld.com/hosteldetails.php/...\n",
              "\n",
              "[5 rows x 6 columns]"
            ]
          },
          "metadata": {},
          "execution_count": 7
        }
      ]
    },
    {
      "cell_type": "markdown",
      "metadata": {
        "id": "wcZzsokQwz4F"
      },
      "source": [
        "## Análise Exporatória:"
      ]
    },
    {
      "cell_type": "code",
      "metadata": {
        "id": "ZUsI617bw3yE"
      },
      "source": [
        "# Importando as bibliotecas necessárias para a análise.\n",
        "import matplotlib.pyplot as plt"
      ],
      "execution_count": null,
      "outputs": []
    },
    {
      "cell_type": "code",
      "metadata": {
        "colab": {
          "base_uri": "https://localhost:8080/",
          "height": 423
        },
        "id": "ghTf1D6U0_oA",
        "outputId": "0a368ba4-8b80-480f-e0f7-fbcb0b7c2a90"
      },
      "source": [
        "plt.figure(1,figsize=(8,6))\n",
        "plt.xlabel('Preço')\n",
        "plt.ylabel('Nota')\n",
        "plt.title('Relação entre Preço e Nota das Avaliações', fontdict={'fontsize': 16})\n",
        "plt.scatter(df_rome['preco'], df_rome['nota'])"
      ],
      "execution_count": null,
      "outputs": [
        {
          "output_type": "execute_result",
          "data": {
            "text/plain": [
              "<matplotlib.collections.PathCollection at 0x7efc31d3ef90>"
            ]
          },
          "metadata": {},
          "execution_count": 9
        },
        {
          "output_type": "display_data",
          "data": {
            "image/png": "[encoded data removed]",
            "text/plain": [
              "<Figure size 576x432 with 1 Axes>"
            ]
          },
          "metadata": {
            "needs_background": "light"
          }
        }
      ]
    },
    {
      "cell_type": "markdown",
      "metadata": {
        "id": "Tpq69Oqo07D3"
      },
      "source": [
        "**Conclusões:**\n",
        "- A cidade tem notas bastante altas se comparado ao preço pago pela estadia.\n",
        "- Grande parte dos preços se concentra entre 10 e 40 dólares a diária.\n",
        "- Muitas acomodações, em diversas faixas de preço, tem nota zero, mas é bem provável que sejam avaliações não realizadas."
      ]
    },
    {
      "cell_type": "code",
      "metadata": {
        "colab": {
          "base_uri": "https://localhost:8080/",
          "height": 424
        },
        "id": "lmm1ysaY1ZXq",
        "outputId": "ba740ace-c605-406a-b340-f075827a6e1e"
      },
      "source": [
        "plt.figure(1,figsize=(8,6))\n",
        "plt.ylabel('Distância do Centro')\n",
        "plt.xlabel('Preço')\n",
        "plt.title('Relação entre Distância do Centro e Preço', fontdict={'fontsize': 16})\n",
        "plt.scatter( df_rome['preco'], df_rome['distancia_centro'])"
      ],
      "execution_count": null,
      "outputs": [
        {
          "output_type": "execute_result",
          "data": {
            "text/plain": [
              "<matplotlib.collections.PathCollection at 0x7efc31825990>"
            ]
          },
          "metadata": {},
          "execution_count": 10
        },
        {
          "output_type": "display_data",
          "data": {
            "image/png": "[encoded data removed]",
            "text/plain": [
              "<Figure size 576x432 with 1 Axes>"
            ]
          },
          "metadata": {
            "needs_background": "light"
          }
        }
      ]
    },
    {
      "cell_type": "markdown",
      "metadata": {
        "id": "mOXz3XeK-kIc"
      },
      "source": [
        "**Conclusões:**\n",
        "- Grande parte das acomodações está a menos de 5km do centro de Roma."
      ]
    },
    {
      "cell_type": "code",
      "metadata": {
        "colab": {
          "base_uri": "https://localhost:8080/",
          "height": 424
        },
        "id": "WHY1YDvkx5kX",
        "outputId": "6c7c5055-734a-4f2d-ab71-e49fd8ef00b3"
      },
      "source": [
        "plt.figure(1,figsize=(8,6))\n",
        "plt.xlabel('Distância do Centro')\n",
        "plt.ylabel('Nota')\n",
        "plt.title('Relação entre Distância do Centro e Nota das Avaliações', fontdict={'fontsize': 16})\n",
        "plt.scatter(df_rome['distancia_centro'], df_rome['nota'])"
      ],
      "execution_count": null,
      "outputs": [
        {
          "output_type": "execute_result",
          "data": {
            "text/plain": [
              "<matplotlib.collections.PathCollection at 0x7efc317a6f10>"
            ]
          },
          "metadata": {},
          "execution_count": 11
        },
        {
          "output_type": "display_data",
          "data": {
            "image/png": "[encoded data removed]",
            "text/plain": [
              "<Figure size 576x432 with 1 Axes>"
            ]
          },
          "metadata": {
            "needs_background": "light"
          }
        }
      ]
    },
    {
      "cell_type": "markdown",
      "metadata": {
        "id": "brwWJPVf-1Jo"
      },
      "source": [
        "**Conclusões:**\n",
        "- Distância do centro não parece ser um fator determinante para uma avaliação boa ou ruim.\n",
        "- A maioria dos hostels tem notas elevadas e esses mesmos hostels estão há pouca distância do centro."
      ]
    },
    {
      "cell_type": "markdown",
      "metadata": {
        "id": "1gudYWPzB73Q"
      },
      "source": [
        "## Apoio a Decisão:"
      ]
    },
    {
      "cell_type": "markdown",
      "metadata": {
        "id": "EySXB9mMCK8R"
      },
      "source": [
        "Nesta parte final vou criar alguns parâmetros para a tomada de decisão e espero que tais parâmetros auxiliem na tomada de decisão de qual hospedagem contratar para ficar em Roma na minha viagem."
      ]
    },
    {
      "cell_type": "code",
      "metadata": {
        "colab": {
          "base_uri": "https://localhost:8080/",
          "height": 206
        },
        "id": "H9vCJK9ih-rb",
        "outputId": "4b50769c-9ce9-4fef-ce0a-2b10ba7d2b04"
      },
      "source": [
        "df_rome.head()"
      ],
      "execution_count": null,
      "outputs": [
        {
          "output_type": "execute_result",
          "data": {
            "text/html": [
              "<div>\n",
              "<style scoped>\n",
              "    .dataframe tbody tr th:only-of-type {\n",
              "        vertical-align: middle;\n",
              "    }\n",
              "\n",
              "    .dataframe tbody tr th {\n",
              "        vertical-align: top;\n",
              "    }\n",
              "\n",
              "    .dataframe thead th {\n",
              "        text-align: right;\n",
              "    }\n",
              "</style>\n",
              "<table border=\"1\" class=\"dataframe\">\n",
              "  <thead>\n",
              "    <tr style=\"text-align: right;\">\n",
              "      <th></th>\n",
              "      <th>nome</th>\n",
              "      <th>distancia_centro</th>\n",
              "      <th>nota</th>\n",
              "      <th>aval_num</th>\n",
              "      <th>preco</th>\n",
              "      <th>link</th>\n",
              "    </tr>\n",
              "  </thead>\n",
              "  <tbody>\n",
              "    <tr>\n",
              "      <th>0</th>\n",
              "      <td>YellowSquare Rome</td>\n",
              "      <td>1.8</td>\n",
              "      <td>8.9</td>\n",
              "      <td>20304</td>\n",
              "      <td>14.44</td>\n",
              "      <td>https://www.hostelworld.com/hosteldetails.php/...</td>\n",
              "    </tr>\n",
              "    <tr>\n",
              "      <th>1</th>\n",
              "      <td>The RomeHello Hostel</td>\n",
              "      <td>1.0</td>\n",
              "      <td>9.7</td>\n",
              "      <td>1996</td>\n",
              "      <td>18.99</td>\n",
              "      <td>https://www.hostelworld.com/hosteldetails.php/...</td>\n",
              "    </tr>\n",
              "    <tr>\n",
              "      <th>2</th>\n",
              "      <td>Free Hostels Roma</td>\n",
              "      <td>2.3</td>\n",
              "      <td>9.3</td>\n",
              "      <td>504</td>\n",
              "      <td>18.05</td>\n",
              "      <td>https://www.hostelworld.com/hosteldetails.php/...</td>\n",
              "    </tr>\n",
              "    <tr>\n",
              "      <th>3</th>\n",
              "      <td>Alessandro Palace &amp; Bar</td>\n",
              "      <td>1.8</td>\n",
              "      <td>8.3</td>\n",
              "      <td>12654</td>\n",
              "      <td>15.57</td>\n",
              "      <td>https://www.hostelworld.com/hosteldetails.php/...</td>\n",
              "    </tr>\n",
              "    <tr>\n",
              "      <th>4</th>\n",
              "      <td>Freedom Traveller</td>\n",
              "      <td>1.5</td>\n",
              "      <td>7.9</td>\n",
              "      <td>6635</td>\n",
              "      <td>13.54</td>\n",
              "      <td>https://www.hostelworld.com/hosteldetails.php/...</td>\n",
              "    </tr>\n",
              "  </tbody>\n",
              "</table>\n",
              "</div>"
            ],
            "text/plain": [
              "                      nome  ...                                               link\n",
              "0        YellowSquare Rome  ...  https://www.hostelworld.com/hosteldetails.php/...\n",
              "1     The RomeHello Hostel  ...  https://www.hostelworld.com/hosteldetails.php/...\n",
              "2        Free Hostels Roma  ...  https://www.hostelworld.com/hosteldetails.php/...\n",
              "3  Alessandro Palace & Bar  ...  https://www.hostelworld.com/hosteldetails.php/...\n",
              "4        Freedom Traveller  ...  https://www.hostelworld.com/hosteldetails.php/...\n",
              "\n",
              "[5 rows x 6 columns]"
            ]
          },
          "metadata": {},
          "execution_count": 12
        }
      ]
    },
    {
      "cell_type": "code",
      "metadata": {
        "colab": {
          "base_uri": "https://localhost:8080/",
          "height": 423
        },
        "id": "sjWiPLwHi-Zg",
        "outputId": "1a4c0ec7-998f-4bde-9fdf-473d92822936"
      },
      "source": [
        "# Crio então uma nova coluna resultante da razão entre nota e preço.\n",
        "df_rome['razao_nota_preco'] = df_rome['nota'] / df_rome['preco']\n",
        "\n",
        "# Ordeno o dataframe de acordo com essa nova coluna.\n",
        "df_rome = df_rome.sort_values('razao_nota_preco', ascending=False)\n",
        "\n",
        "# Desta forma consigo identificar as melhores relações entre nota alta e preço baixo, aspectos que mais influenciam minhas decisões.\n",
        "df_rome"
      ],
      "execution_count": null,
      "outputs": [
        {
          "output_type": "execute_result",
          "data": {
            "text/html": [
              "<div>\n",
              "<style scoped>\n",
              "    .dataframe tbody tr th:only-of-type {\n",
              "        vertical-align: middle;\n",
              "    }\n",
              "\n",
              "    .dataframe tbody tr th {\n",
              "        vertical-align: top;\n",
              "    }\n",
              "\n",
              "    .dataframe thead th {\n",
              "        text-align: right;\n",
              "    }\n",
              "</style>\n",
              "<table border=\"1\" class=\"dataframe\">\n",
              "  <thead>\n",
              "    <tr style=\"text-align: right;\">\n",
              "      <th></th>\n",
              "      <th>nome</th>\n",
              "      <th>distancia_centro</th>\n",
              "      <th>nota</th>\n",
              "      <th>aval_num</th>\n",
              "      <th>preco</th>\n",
              "      <th>link</th>\n",
              "      <th>razao_nota_preco</th>\n",
              "    </tr>\n",
              "  </thead>\n",
              "  <tbody>\n",
              "    <tr>\n",
              "      <th>65</th>\n",
              "      <td>Marco e Laura B&amp;B</td>\n",
              "      <td>3.3</td>\n",
              "      <td>9.2</td>\n",
              "      <td>16</td>\n",
              "      <td>4.06</td>\n",
              "      <td>https://www.hostelworld.com/hosteldetails.php/...</td>\n",
              "      <td>2.266010</td>\n",
              "    </tr>\n",
              "    <tr>\n",
              "      <th>16</th>\n",
              "      <td>Ostello Bello Roma Colosseo</td>\n",
              "      <td>1.7</td>\n",
              "      <td>9.9</td>\n",
              "      <td>12</td>\n",
              "      <td>5.53</td>\n",
              "      <td>https://www.hostelworld.com/hosteldetails.php/...</td>\n",
              "      <td>1.790235</td>\n",
              "    </tr>\n",
              "    <tr>\n",
              "      <th>68</th>\n",
              "      <td>Roma Camping in Town</td>\n",
              "      <td>6.5</td>\n",
              "      <td>10.0</td>\n",
              "      <td>4863</td>\n",
              "      <td>9.03</td>\n",
              "      <td>https://www.hostelworld.com/hosteldetails.php/...</td>\n",
              "      <td>1.107420</td>\n",
              "    </tr>\n",
              "    <tr>\n",
              "      <th>77</th>\n",
              "      <td>Ferruccio Residence</td>\n",
              "      <td>1.9</td>\n",
              "      <td>10.0</td>\n",
              "      <td>1</td>\n",
              "      <td>11.28</td>\n",
              "      <td>https://www.hostelworld.com/hosteldetails.php/...</td>\n",
              "      <td>0.886525</td>\n",
              "    </tr>\n",
              "    <tr>\n",
              "      <th>19</th>\n",
              "      <td>Zidan Guest House</td>\n",
              "      <td>1.6</td>\n",
              "      <td>7.8</td>\n",
              "      <td>277</td>\n",
              "      <td>11.27</td>\n",
              "      <td>https://www.hostelworld.com/hosteldetails.php/...</td>\n",
              "      <td>0.692103</td>\n",
              "    </tr>\n",
              "    <tr>\n",
              "      <th>...</th>\n",
              "      <td>...</td>\n",
              "      <td>...</td>\n",
              "      <td>...</td>\n",
              "      <td>...</td>\n",
              "      <td>...</td>\n",
              "      <td>...</td>\n",
              "      <td>...</td>\n",
              "    </tr>\n",
              "    <tr>\n",
              "      <th>117</th>\n",
              "      <td>Hotel delle Muse</td>\n",
              "      <td>3.5</td>\n",
              "      <td>0.0</td>\n",
              "      <td>6</td>\n",
              "      <td>31.02</td>\n",
              "      <td>https://www.hostelworld.com/hosteldetails.php/...</td>\n",
              "      <td>0.000000</td>\n",
              "    </tr>\n",
              "    <tr>\n",
              "      <th>118</th>\n",
              "      <td>A Home In Rome</td>\n",
              "      <td>1.6</td>\n",
              "      <td>0.0</td>\n",
              "      <td>0</td>\n",
              "      <td>33.84</td>\n",
              "      <td>https://www.hostelworld.com/hosteldetails.php/...</td>\n",
              "      <td>0.000000</td>\n",
              "    </tr>\n",
              "    <tr>\n",
              "      <th>120</th>\n",
              "      <td>B&amp;B Bed in Roma</td>\n",
              "      <td>1.8</td>\n",
              "      <td>0.0</td>\n",
              "      <td>12</td>\n",
              "      <td>25.95</td>\n",
              "      <td>https://www.hostelworld.com/hosteldetails.php/...</td>\n",
              "      <td>0.000000</td>\n",
              "    </tr>\n",
              "    <tr>\n",
              "      <th>121</th>\n",
              "      <td>Abbraccia Morfeo B&amp;B</td>\n",
              "      <td>5.5</td>\n",
              "      <td>0.0</td>\n",
              "      <td>18</td>\n",
              "      <td>22.51</td>\n",
              "      <td>https://www.hostelworld.com/hosteldetails.php/...</td>\n",
              "      <td>0.000000</td>\n",
              "    </tr>\n",
              "    <tr>\n",
              "      <th>149</th>\n",
              "      <td>The Cross Hotel</td>\n",
              "      <td>2.6</td>\n",
              "      <td>0.0</td>\n",
              "      <td>0</td>\n",
              "      <td>29.70</td>\n",
              "      <td>https://www.hostelworld.com/hosteldetails.php/...</td>\n",
              "      <td>0.000000</td>\n",
              "    </tr>\n",
              "  </tbody>\n",
              "</table>\n",
              "<p>150 rows × 7 columns</p>\n",
              "</div>"
            ],
            "text/plain": [
              "                            nome  ...  razao_nota_preco\n",
              "65             Marco e Laura B&B  ...          2.266010\n",
              "16   Ostello Bello Roma Colosseo  ...          1.790235\n",
              "68          Roma Camping in Town  ...          1.107420\n",
              "77           Ferruccio Residence  ...          0.886525\n",
              "19             Zidan Guest House  ...          0.692103\n",
              "..                           ...  ...               ...\n",
              "117             Hotel delle Muse  ...          0.000000\n",
              "118               A Home In Rome  ...          0.000000\n",
              "120              B&B Bed in Roma  ...          0.000000\n",
              "121         Abbraccia Morfeo B&B  ...          0.000000\n",
              "149              The Cross Hotel  ...          0.000000\n",
              "\n",
              "[150 rows x 7 columns]"
            ]
          },
          "metadata": {},
          "execution_count": 13
        }
      ]
    },
    {
      "cell_type": "code",
      "metadata": {
        "colab": {
          "base_uri": "https://localhost:8080/"
        },
        "id": "meeWffCRphgk",
        "outputId": "f021c5a8-5258-40e6-81a7-2a3ebd0d9c7b"
      },
      "source": [
        "# Confirmo o tipo de data presente na nova coluna. Sendo float consigo filtrar as linhas/hostels de forma condicional à razão criada.\n",
        "df_rome.info()"
      ],
      "execution_count": null,
      "outputs": [
        {
          "output_type": "stream",
          "name": "stdout",
          "text": [
            "<class 'pandas.core.frame.DataFrame'>\n",
            "Int64Index: 150 entries, 65 to 149\n",
            "Data columns (total 7 columns):\n",
            " #   Column            Non-Null Count  Dtype  \n",
            "---  ------            --------------  -----  \n",
            " 0   nome              150 non-null    object \n",
            " 1   distancia_centro  150 non-null    float64\n",
            " 2   nota              150 non-null    float64\n",
            " 3   aval_num          150 non-null    int64  \n",
            " 4   preco             150 non-null    float64\n",
            " 5   link              150 non-null    object \n",
            " 6   razao_nota_preco  150 non-null    float64\n",
            "dtypes: float64(4), int64(1), object(2)\n",
            "memory usage: 9.4+ KB\n"
          ]
        }
      ]
    },
    {
      "cell_type": "code",
      "metadata": {
        "colab": {
          "base_uri": "https://localhost:8080/",
          "height": 174
        },
        "id": "6xERajaOqwSS",
        "outputId": "02eee64e-5bfc-40ef-87b8-3416fdcdcaf0"
      },
      "source": [
        "# Filtro, então, o dataframe para apresentar apenas as 3 melhores opções dentro dos parâmetros estabelecidos.\n",
        "df_rome = df_rome.drop(df_rome[df_rome.razao_nota_preco < 0.8].index)\n",
        "df_rome"
      ],
      "execution_count": null,
      "outputs": [
        {
          "output_type": "execute_result",
          "data": {
            "text/html": [
              "<div>\n",
              "<style scoped>\n",
              "    .dataframe tbody tr th:only-of-type {\n",
              "        vertical-align: middle;\n",
              "    }\n",
              "\n",
              "    .dataframe tbody tr th {\n",
              "        vertical-align: top;\n",
              "    }\n",
              "\n",
              "    .dataframe thead th {\n",
              "        text-align: right;\n",
              "    }\n",
              "</style>\n",
              "<table border=\"1\" class=\"dataframe\">\n",
              "  <thead>\n",
              "    <tr style=\"text-align: right;\">\n",
              "      <th></th>\n",
              "      <th>nome</th>\n",
              "      <th>distancia_centro</th>\n",
              "      <th>nota</th>\n",
              "      <th>aval_num</th>\n",
              "      <th>preco</th>\n",
              "      <th>link</th>\n",
              "      <th>razao_nota_preco</th>\n",
              "    </tr>\n",
              "  </thead>\n",
              "  <tbody>\n",
              "    <tr>\n",
              "      <th>65</th>\n",
              "      <td>Marco e Laura B&amp;B</td>\n",
              "      <td>3.3</td>\n",
              "      <td>9.2</td>\n",
              "      <td>16</td>\n",
              "      <td>4.06</td>\n",
              "      <td>https://www.hostelworld.com/hosteldetails.php/...</td>\n",
              "      <td>2.266010</td>\n",
              "    </tr>\n",
              "    <tr>\n",
              "      <th>16</th>\n",
              "      <td>Ostello Bello Roma Colosseo</td>\n",
              "      <td>1.7</td>\n",
              "      <td>9.9</td>\n",
              "      <td>12</td>\n",
              "      <td>5.53</td>\n",
              "      <td>https://www.hostelworld.com/hosteldetails.php/...</td>\n",
              "      <td>1.790235</td>\n",
              "    </tr>\n",
              "    <tr>\n",
              "      <th>68</th>\n",
              "      <td>Roma Camping in Town</td>\n",
              "      <td>6.5</td>\n",
              "      <td>10.0</td>\n",
              "      <td>4863</td>\n",
              "      <td>9.03</td>\n",
              "      <td>https://www.hostelworld.com/hosteldetails.php/...</td>\n",
              "      <td>1.107420</td>\n",
              "    </tr>\n",
              "    <tr>\n",
              "      <th>77</th>\n",
              "      <td>Ferruccio Residence</td>\n",
              "      <td>1.9</td>\n",
              "      <td>10.0</td>\n",
              "      <td>1</td>\n",
              "      <td>11.28</td>\n",
              "      <td>https://www.hostelworld.com/hosteldetails.php/...</td>\n",
              "      <td>0.886525</td>\n",
              "    </tr>\n",
              "  </tbody>\n",
              "</table>\n",
              "</div>"
            ],
            "text/plain": [
              "                           nome  ...  razao_nota_preco\n",
              "65            Marco e Laura B&B  ...          2.266010\n",
              "16  Ostello Bello Roma Colosseo  ...          1.790235\n",
              "68         Roma Camping in Town  ...          1.107420\n",
              "77          Ferruccio Residence  ...          0.886525\n",
              "\n",
              "[4 rows x 7 columns]"
            ]
          },
          "metadata": {},
          "execution_count": 15
        }
      ]
    },
    {
      "cell_type": "markdown",
      "metadata": {
        "id": "BBy092pWxZCp"
      },
      "source": [
        "- Importante ressaltar que eu poderia ter apenas escolhido o hostel que apresentasse a melhor razão nota/preço, mas prefiro deixar a decisão final ser tomada por um ser humano (eu) com opções pois acredito que um pouco de intuição faz parte da experiência de conhecer novos lugares."
      ]
    },
    {
      "cell_type": "code",
      "metadata": {
        "colab": {
          "base_uri": "https://localhost:8080/"
        },
        "id": "FdNbc-tD5BOM",
        "outputId": "1cc18e8b-7bba-486d-e4eb-f0cb2c9bc09c"
      },
      "source": [
        "# Abaixo, o link (clicável) dos hostels selecionados para minha avaliação futura.\n",
        "\n",
        "for i in df_rome['link']:\n",
        " print(i)"
      ],
      "execution_count": null,
      "outputs": [
        {
          "output_type": "stream",
          "name": "stdout",
          "text": [
            "https://www.hostelworld.com/hosteldetails.php/Marco-e-Laura-B-and-B/Rome/71593\n",
            "https://www.hostelworld.com/hosteldetails.php/Ostello-Bello-Roma-Colosseo/Rome/311605\n",
            "https://www.hostelworld.com/hosteldetails.php/Roma-Camping-in-Town/Rome/6268\n",
            "https://www.hostelworld.com/hosteldetails.php/Ferruccio-Residence/Rome/311178\n"
          ]
        }
      ]
    }
  ]
}