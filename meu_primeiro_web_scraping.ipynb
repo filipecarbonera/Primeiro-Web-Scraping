{
  "nbformat": 4,
  "nbformat_minor": 0,
  "metadata": {
    "colab": {
      "name": "meu_primeiro_web_scraping.ipynb",
      "provenance": [],
      "authorship_tag": "ABX9TyPXvJZPj3ww+JJq/9lzx+HR",
      "include_colab_link": true
    },
    "kernelspec": {
      "name": "python3",
      "display_name": "Python 3"
    },
    "language_info": {
      "name": "python"
    }
  },
  "cells": [
    {
      "cell_type": "markdown",
      "metadata": {
        "id": "view-in-github",
        "colab_type": "text"
      },
      "source": [
        "<a href=\"https://colab.research.google.com/github/filipecarbonera/primeiro_web_scraping/blob/main/meu_primeiro_web_scraping.ipynb\" target=\"_parent\"><img src=\"https://colab.research.google.com/assets/colab-badge.svg\" alt=\"Open In Colab\"/></a>"
      ]
    },
    {
      "cell_type": "markdown",
      "metadata": {
        "id": "1OF9ebylwKfh"
      },
      "source": [
        "# **Projeto:** Meu primeiro Web Scraping"
      ]
    },
    {
      "cell_type": "markdown",
      "metadata": {
        "id": "-GdLBkGB_2Oa"
      },
      "source": [
        "Um dos meus grandes sonhos é conhecer a Europa e, por minha família ser de origem italiana, nada mais justo que a Itália ser um dos primeiros países que eu queira visitar.\n",
        "\n",
        "Como de costume, se eu for para um local desconhecido, quero me hospedar em um hostel para aumentar a chance de conhecer pessoas e fazer novas amizades.\n",
        "\n",
        "Por isso, nesse projeto vou buscar algumas informações em um site referência em hostels pelo mundo.\n",
        "\n",
        "Algumas delas vão me servir para auxiliar na decisão de que locar ficar quando fizer minha viagem, mas vou aproveitar o projeto para buscar outras informações e fazer um projeto de análise de dados mais abrangente."
      ]
    },
    {
      "cell_type": "markdown",
      "metadata": {
        "id": "i0eZW09RkRrk"
      },
      "source": [
        "## Web Scraping"
      ]
    },
    {
      "cell_type": "markdown",
      "metadata": {
        "id": "gDw_-tU6wUsy"
      },
      "source": [
        "Site: https://www.hostelworld.com/hostels/Rome\n",
        "\n",
        "Informações que irei buscar:\n",
        "- Nome do hostel\n",
        "- Link para a página do hostel\n",
        "- Distância do hostel até o centro da cidade\n",
        "- Nota média de avaliação\n",
        "- Preço médio por noite, em USD\n",
        "- Número de avaliações feitas para aquele local"
      ]
    },
    {
      "cell_type": "code",
      "metadata": {
        "id": "CQgx6iiikPT0"
      },
      "source": [
        "#Importando as bibliotecas necessárias.\n",
        "from requests import get\n",
        "from bs4 import BeautifulSoup\n",
        "import pandas as pd\n",
        "import numpy as np"
      ],
      "execution_count": 1,
      "outputs": []
    },
    {
      "cell_type": "code",
      "metadata": {
        "id": "IvzFUG_ERZhk"
      },
      "source": [
        "# Criando as listas necessárias para armazenar as informações que serão buscadas.\n",
        "hostel_names= []\n",
        "hostel_links= []\n",
        "hostel_distance= []\n",
        "hostel_ratings= []\n",
        "hostel_reviews= []\n",
        "hostel_prices= []\n",
        "\n",
        "# Iterando as páginas para buscar a informação completa de todos os hostels cadastrados da cidade.\n",
        "for pagina in np.arange(1,6):\n",
        "  url = 'https://www.hostelworld.com/hostels/Rome?page=' + str(pagina) # Buscando as páginas de acordo com o padrão de url do site.\n",
        "  dados_url = get(url)\n",
        "  soup = BeautifulSoup(dados_url.text, 'html.parser')\n",
        "  hostel_containers= soup.findAll(class_= 'fabresult rounded clearfix hwta-property') # Buscando os containers de informações.\n",
        "\n",
        "# Iterando os contêineres o atribuindo a cada uma das listas o valor correspondente.\n",
        "  for i in range(len(hostel_containers)):\n",
        "    hostel_names.append(hostel_containers[i].h2.a.text)\n",
        "    hostel_links.append(hostel_containers[i].h2.a.get('href'))\n",
        "    hostel_distance.append(hostel_containers[i].find(class_= \"addressline\").text[12:18].replace('k','').replace('m','').replace('fr','').strip())\n",
        "    hostel_ratings.append(hostel_containers[i].find(class_ = \"hwta-rating-score\").text.strip())\n",
        "    hostel_reviews.append(hostel_containers[i].find(class_=\"hwta-rating-counter\").text.strip())\n",
        "    hostel_prices.append(hostel_containers[i].find(class_= \"minprice clearfix\").text[4:10].replace('P','').strip())\n"
      ],
      "execution_count": 2,
      "outputs": []
    },
    {
      "cell_type": "markdown",
      "metadata": {
        "id": "SYBkCPNgwZvq"
      },
      "source": [
        "## Feature engineering:"
      ]
    },
    {
      "cell_type": "code",
      "metadata": {
        "colab": {
          "base_uri": "https://localhost:8080/",
          "height": 423
        },
        "id": "1aATkuG3N1k_",
        "outputId": "18d4aaab-7855-4599-a78e-e253e7239963"
      },
      "source": [
        "# Transformando o conjunto de listas em um dataframe único do Pandas.\n",
        "df_rome = pd.DataFrame(\n",
        "    {\n",
        "     'nome': hostel_names,\n",
        "     'distancia_centro': hostel_distance,\n",
        "     'nota': hostel_ratings,\n",
        "     'aval_num': hostel_reviews,\n",
        "     'preco': hostel_prices,\n",
        "     'link': hostel_links,\n",
        "    }\n",
        ")\n",
        "\n",
        "# Visualizando o dataframe criado após o web-scraping.\n",
        "df_rome"
      ],
      "execution_count": 3,
      "outputs": [
        {
          "output_type": "execute_result",
          "data": {
            "text/html": [
              "<div>\n",
              "<style scoped>\n",
              "    .dataframe tbody tr th:only-of-type {\n",
              "        vertical-align: middle;\n",
              "    }\n",
              "\n",
              "    .dataframe tbody tr th {\n",
              "        vertical-align: top;\n",
              "    }\n",
              "\n",
              "    .dataframe thead th {\n",
              "        text-align: right;\n",
              "    }\n",
              "</style>\n",
              "<table border=\"1\" class=\"dataframe\">\n",
              "  <thead>\n",
              "    <tr style=\"text-align: right;\">\n",
              "      <th></th>\n",
              "      <th>nome</th>\n",
              "      <th>distancia_centro</th>\n",
              "      <th>nota</th>\n",
              "      <th>aval_num</th>\n",
              "      <th>preco</th>\n",
              "      <th>link</th>\n",
              "    </tr>\n",
              "  </thead>\n",
              "  <tbody>\n",
              "    <tr>\n",
              "      <th>0</th>\n",
              "      <td>YellowSquare Rome</td>\n",
              "      <td>1.8</td>\n",
              "      <td>8.9</td>\n",
              "      <td>20269</td>\n",
              "      <td>14.49</td>\n",
              "      <td>https://www.hostelworld.com/hosteldetails.php/...</td>\n",
              "    </tr>\n",
              "    <tr>\n",
              "      <th>1</th>\n",
              "      <td>The RomeHello Hostel</td>\n",
              "      <td>1</td>\n",
              "      <td>9.6</td>\n",
              "      <td>1978</td>\n",
              "      <td>19.05</td>\n",
              "      <td>https://www.hostelworld.com/hosteldetails.php/...</td>\n",
              "    </tr>\n",
              "    <tr>\n",
              "      <th>2</th>\n",
              "      <td>Free Hostels Roma</td>\n",
              "      <td>2.3</td>\n",
              "      <td>9.3</td>\n",
              "      <td>499</td>\n",
              "      <td>18.11</td>\n",
              "      <td>https://www.hostelworld.com/hosteldetails.php/...</td>\n",
              "    </tr>\n",
              "    <tr>\n",
              "      <th>3</th>\n",
              "      <td>Alessandro Palace &amp; Bar</td>\n",
              "      <td>1.8</td>\n",
              "      <td>8.4</td>\n",
              "      <td>12631</td>\n",
              "      <td>15.62</td>\n",
              "      <td>https://www.hostelworld.com/hosteldetails.php/...</td>\n",
              "    </tr>\n",
              "    <tr>\n",
              "      <th>4</th>\n",
              "      <td>Freedom Traveller</td>\n",
              "      <td>1.5</td>\n",
              "      <td>8.0</td>\n",
              "      <td>6606</td>\n",
              "      <td>13.58</td>\n",
              "      <td>https://www.hostelworld.com/hosteldetails.php/...</td>\n",
              "    </tr>\n",
              "    <tr>\n",
              "      <th>...</th>\n",
              "      <td>...</td>\n",
              "      <td>...</td>\n",
              "      <td>...</td>\n",
              "      <td>...</td>\n",
              "      <td>...</td>\n",
              "      <td>...</td>\n",
              "    </tr>\n",
              "    <tr>\n",
              "      <th>145</th>\n",
              "      <td>C'est La Vie Suites</td>\n",
              "      <td>3</td>\n",
              "      <td>0.0</td>\n",
              "      <td>0</td>\n",
              "      <td>36.23</td>\n",
              "      <td>https://www.hostelworld.com/hosteldetails.php/...</td>\n",
              "    </tr>\n",
              "    <tr>\n",
              "      <th>146</th>\n",
              "      <td>A Casa Boschi b&amp;b</td>\n",
              "      <td>3</td>\n",
              "      <td>0.0</td>\n",
              "      <td>0</td>\n",
              "      <td>33.96</td>\n",
              "      <td>https://www.hostelworld.com/hosteldetails.php/...</td>\n",
              "    </tr>\n",
              "    <tr>\n",
              "      <th>147</th>\n",
              "      <td>Little rhome suites</td>\n",
              "      <td>1.4</td>\n",
              "      <td>0.0</td>\n",
              "      <td>1</td>\n",
              "      <td>67.92</td>\n",
              "      <td>https://www.hostelworld.com/hosteldetails.php/...</td>\n",
              "    </tr>\n",
              "    <tr>\n",
              "      <th>148</th>\n",
              "      <td>CK rooms</td>\n",
              "      <td>2</td>\n",
              "      <td>0.0</td>\n",
              "      <td>63</td>\n",
              "      <td>25.47</td>\n",
              "      <td>https://www.hostelworld.com/hosteldetails.php/...</td>\n",
              "    </tr>\n",
              "    <tr>\n",
              "      <th>149</th>\n",
              "      <td>Casa Vacanze Nonno Giulio</td>\n",
              "      <td>1.8</td>\n",
              "      <td>0.0</td>\n",
              "      <td>2</td>\n",
              "      <td>31.13</td>\n",
              "      <td>https://www.hostelworld.com/hosteldetails.php/...</td>\n",
              "    </tr>\n",
              "  </tbody>\n",
              "</table>\n",
              "<p>150 rows × 6 columns</p>\n",
              "</div>"
            ],
            "text/plain": [
              "                          nome  ...                                               link\n",
              "0            YellowSquare Rome  ...  https://www.hostelworld.com/hosteldetails.php/...\n",
              "1         The RomeHello Hostel  ...  https://www.hostelworld.com/hosteldetails.php/...\n",
              "2            Free Hostels Roma  ...  https://www.hostelworld.com/hosteldetails.php/...\n",
              "3      Alessandro Palace & Bar  ...  https://www.hostelworld.com/hosteldetails.php/...\n",
              "4            Freedom Traveller  ...  https://www.hostelworld.com/hosteldetails.php/...\n",
              "..                         ...  ...                                                ...\n",
              "145        C'est La Vie Suites  ...  https://www.hostelworld.com/hosteldetails.php/...\n",
              "146          A Casa Boschi b&b  ...  https://www.hostelworld.com/hosteldetails.php/...\n",
              "147        Little rhome suites  ...  https://www.hostelworld.com/hosteldetails.php/...\n",
              "148                   CK rooms  ...  https://www.hostelworld.com/hosteldetails.php/...\n",
              "149  Casa Vacanze Nonno Giulio  ...  https://www.hostelworld.com/hosteldetails.php/...\n",
              "\n",
              "[150 rows x 6 columns]"
            ]
          },
          "metadata": {},
          "execution_count": 3
        }
      ]
    },
    {
      "cell_type": "code",
      "metadata": {
        "colab": {
          "base_uri": "https://localhost:8080/"
        },
        "id": "4jv-eCmzXcZ7",
        "outputId": "fc67d36e-accd-41f1-b524-0c4d4b198610"
      },
      "source": [
        "df_rome.info()"
      ],
      "execution_count": 4,
      "outputs": [
        {
          "output_type": "stream",
          "name": "stdout",
          "text": [
            "<class 'pandas.core.frame.DataFrame'>\n",
            "RangeIndex: 150 entries, 0 to 149\n",
            "Data columns (total 6 columns):\n",
            " #   Column            Non-Null Count  Dtype \n",
            "---  ------            --------------  ----- \n",
            " 0   nome              150 non-null    object\n",
            " 1   distancia_centro  150 non-null    object\n",
            " 2   nota              150 non-null    object\n",
            " 3   aval_num          150 non-null    object\n",
            " 4   preco             150 non-null    object\n",
            " 5   link              150 non-null    object\n",
            "dtypes: object(6)\n",
            "memory usage: 7.2+ KB\n"
          ]
        }
      ]
    },
    {
      "cell_type": "code",
      "metadata": {
        "id": "bFzSpgtmZ0z6"
      },
      "source": [
        "# Transformando o tipo de dados de algumas colunas para melhor trabalhar com eles futuramente.\n",
        "df_rome['distancia_centro'] = df_rome['distancia_centro'].astype(float)\n",
        "df_rome['nota'] = df_rome['nota'].astype(float)\n",
        "df_rome['aval_num'] = df_rome['aval_num'].astype(int)\n",
        "df_rome['preco'] = df_rome['preco'].astype(float)"
      ],
      "execution_count": 5,
      "outputs": []
    },
    {
      "cell_type": "code",
      "metadata": {
        "colab": {
          "base_uri": "https://localhost:8080/"
        },
        "id": "fWdJqCT-ayd1",
        "outputId": "a4bb6786-ac03-4e46-8d81-315ab0afeaf3"
      },
      "source": [
        "df_rome.info()"
      ],
      "execution_count": 6,
      "outputs": [
        {
          "output_type": "stream",
          "name": "stdout",
          "text": [
            "<class 'pandas.core.frame.DataFrame'>\n",
            "RangeIndex: 150 entries, 0 to 149\n",
            "Data columns (total 6 columns):\n",
            " #   Column            Non-Null Count  Dtype  \n",
            "---  ------            --------------  -----  \n",
            " 0   nome              150 non-null    object \n",
            " 1   distancia_centro  150 non-null    float64\n",
            " 2   nota              150 non-null    float64\n",
            " 3   aval_num          150 non-null    int64  \n",
            " 4   preco             150 non-null    float64\n",
            " 5   link              150 non-null    object \n",
            "dtypes: float64(3), int64(1), object(2)\n",
            "memory usage: 7.2+ KB\n"
          ]
        }
      ]
    },
    {
      "cell_type": "code",
      "metadata": {
        "colab": {
          "base_uri": "https://localhost:8080/",
          "height": 206
        },
        "id": "jmCaTYcNunD8",
        "outputId": "fba2d3f9-4ce4-40e7-a490-33531d2d607f"
      },
      "source": [
        "df_rome.head()"
      ],
      "execution_count": 7,
      "outputs": [
        {
          "output_type": "execute_result",
          "data": {
            "text/html": [
              "<div>\n",
              "<style scoped>\n",
              "    .dataframe tbody tr th:only-of-type {\n",
              "        vertical-align: middle;\n",
              "    }\n",
              "\n",
              "    .dataframe tbody tr th {\n",
              "        vertical-align: top;\n",
              "    }\n",
              "\n",
              "    .dataframe thead th {\n",
              "        text-align: right;\n",
              "    }\n",
              "</style>\n",
              "<table border=\"1\" class=\"dataframe\">\n",
              "  <thead>\n",
              "    <tr style=\"text-align: right;\">\n",
              "      <th></th>\n",
              "      <th>nome</th>\n",
              "      <th>distancia_centro</th>\n",
              "      <th>nota</th>\n",
              "      <th>aval_num</th>\n",
              "      <th>preco</th>\n",
              "      <th>link</th>\n",
              "    </tr>\n",
              "  </thead>\n",
              "  <tbody>\n",
              "    <tr>\n",
              "      <th>0</th>\n",
              "      <td>YellowSquare Rome</td>\n",
              "      <td>1.8</td>\n",
              "      <td>8.9</td>\n",
              "      <td>20269</td>\n",
              "      <td>14.49</td>\n",
              "      <td>https://www.hostelworld.com/hosteldetails.php/...</td>\n",
              "    </tr>\n",
              "    <tr>\n",
              "      <th>1</th>\n",
              "      <td>The RomeHello Hostel</td>\n",
              "      <td>1.0</td>\n",
              "      <td>9.6</td>\n",
              "      <td>1978</td>\n",
              "      <td>19.05</td>\n",
              "      <td>https://www.hostelworld.com/hosteldetails.php/...</td>\n",
              "    </tr>\n",
              "    <tr>\n",
              "      <th>2</th>\n",
              "      <td>Free Hostels Roma</td>\n",
              "      <td>2.3</td>\n",
              "      <td>9.3</td>\n",
              "      <td>499</td>\n",
              "      <td>18.11</td>\n",
              "      <td>https://www.hostelworld.com/hosteldetails.php/...</td>\n",
              "    </tr>\n",
              "    <tr>\n",
              "      <th>3</th>\n",
              "      <td>Alessandro Palace &amp; Bar</td>\n",
              "      <td>1.8</td>\n",
              "      <td>8.4</td>\n",
              "      <td>12631</td>\n",
              "      <td>15.62</td>\n",
              "      <td>https://www.hostelworld.com/hosteldetails.php/...</td>\n",
              "    </tr>\n",
              "    <tr>\n",
              "      <th>4</th>\n",
              "      <td>Freedom Traveller</td>\n",
              "      <td>1.5</td>\n",
              "      <td>8.0</td>\n",
              "      <td>6606</td>\n",
              "      <td>13.58</td>\n",
              "      <td>https://www.hostelworld.com/hosteldetails.php/...</td>\n",
              "    </tr>\n",
              "  </tbody>\n",
              "</table>\n",
              "</div>"
            ],
            "text/plain": [
              "                      nome  ...                                               link\n",
              "0        YellowSquare Rome  ...  https://www.hostelworld.com/hosteldetails.php/...\n",
              "1     The RomeHello Hostel  ...  https://www.hostelworld.com/hosteldetails.php/...\n",
              "2        Free Hostels Roma  ...  https://www.hostelworld.com/hosteldetails.php/...\n",
              "3  Alessandro Palace & Bar  ...  https://www.hostelworld.com/hosteldetails.php/...\n",
              "4        Freedom Traveller  ...  https://www.hostelworld.com/hosteldetails.php/...\n",
              "\n",
              "[5 rows x 6 columns]"
            ]
          },
          "metadata": {},
          "execution_count": 7
        }
      ]
    },
    {
      "cell_type": "markdown",
      "metadata": {
        "id": "wcZzsokQwz4F"
      },
      "source": [
        "## Análise Exporatória:"
      ]
    },
    {
      "cell_type": "code",
      "metadata": {
        "id": "ZUsI617bw3yE"
      },
      "source": [
        "# Importando as bibliotecas necessárias para a análise.\n",
        "import matplotlib.pyplot as plt"
      ],
      "execution_count": 8,
      "outputs": []
    },
    {
      "cell_type": "code",
      "metadata": {
        "colab": {
          "base_uri": "https://localhost:8080/",
          "height": 423
        },
        "id": "ghTf1D6U0_oA",
        "outputId": "d3387110-3cfa-4a43-d8fb-17a8473fd0d8"
      },
      "source": [
        "plt.figure(1,figsize=(8,6))\n",
        "plt.xlabel('Preço')\n",
        "plt.ylabel('Nota')\n",
        "plt.title('Relação entre Preço e Nota das Avaliações', fontdict={'fontsize': 16})\n",
        "plt.scatter(df_rome['preco'], df_rome['nota'])"
      ],
      "execution_count": 9,
      "outputs": [
        {
          "output_type": "execute_result",
          "data": {
            "text/plain": [
              "<matplotlib.collections.PathCollection at 0x7f3738f01910>"
            ]
          },
          "metadata": {},
          "execution_count": 9
        },
        {
          "output_type": "display_data",
          "data": {
            "image/png": "[encoded data removed]",
            "text/plain": [
              "<Figure size 576x432 with 1 Axes>"
            ]
          },
          "metadata": {
            "needs_background": "light"
          }
        }
      ]
    },
    {
      "cell_type": "markdown",
      "metadata": {
        "id": "Tpq69Oqo07D3"
      },
      "source": [
        "**Conclusões:**\n",
        "- A cidade tem notas bastante altas se comparado ao preço pago pela estadia.\n",
        "- Grande parte dos preços se concentra entre 10 e 40 dólares a diária.\n",
        "- Muitas acomodações, em diversas faixas de preço, tem nota zero, mas é bem provável que sejam avaliações não realizadas."
      ]
    },
    {
      "cell_type": "code",
      "metadata": {
        "colab": {
          "base_uri": "https://localhost:8080/",
          "height": 424
        },
        "id": "lmm1ysaY1ZXq",
        "outputId": "0bdee9e1-0fa9-4fd6-dde4-b69082dd74ba"
      },
      "source": [
        "plt.figure(1,figsize=(8,6))\n",
        "plt.ylabel('Distância do Centro')\n",
        "plt.xlabel('Preço')\n",
        "plt.title('Relação entre Distância do Centro e Preço', fontdict={'fontsize': 16})\n",
        "plt.scatter( df_rome['preco'], df_rome['distancia_centro'])"
      ],
      "execution_count": 10,
      "outputs": [
        {
          "output_type": "execute_result",
          "data": {
            "text/plain": [
              "<matplotlib.collections.PathCollection at 0x7f3738f01750>"
            ]
          },
          "metadata": {},
          "execution_count": 10
        },
        {
          "output_type": "display_data",
          "data": {
            "image/png": "[encoded data removed]",
            "text/plain": [
              "<Figure size 576x432 with 1 Axes>"
            ]
          },
          "metadata": {
            "needs_background": "light"
          }
        }
      ]
    },
    {
      "cell_type": "markdown",
      "metadata": {
        "id": "mOXz3XeK-kIc"
      },
      "source": [
        "**Conclusões:**\n",
        "- Grande parte das acomodações está a menos de 5km do centro de Roma."
      ]
    },
    {
      "cell_type": "code",
      "metadata": {
        "colab": {
          "base_uri": "https://localhost:8080/",
          "height": 424
        },
        "id": "WHY1YDvkx5kX",
        "outputId": "947f998c-d102-49a5-a4b6-c6a95b573926"
      },
      "source": [
        "plt.figure(1,figsize=(8,6))\n",
        "plt.xlabel('Distância do Centro')\n",
        "plt.ylabel('Nota')\n",
        "plt.title('Relação entre Distância do Centro e Nota das Avaliações', fontdict={'fontsize': 16})\n",
        "plt.scatter(df_rome['distancia_centro'], df_rome['nota'])"
      ],
      "execution_count": 11,
      "outputs": [
        {
          "output_type": "execute_result",
          "data": {
            "text/plain": [
              "<matplotlib.collections.PathCollection at 0x7f3738a6d510>"
            ]
          },
          "metadata": {},
          "execution_count": 11
        },
        {
          "output_type": "display_data",
          "data": {
            "image/png": "[encoded data removed]",
            "text/plain": [
              "<Figure size 576x432 with 1 Axes>"
            ]
          },
          "metadata": {
            "needs_background": "light"
          }
        }
      ]
    },
    {
      "cell_type": "markdown",
      "metadata": {
        "id": "brwWJPVf-1Jo"
      },
      "source": [
        "**Conclusões:**\n",
        "- Distância do centro não parece ser um fator determinante para uma avaliação boa ou ruim.\n",
        "- A maioria dos hostels tem notas elevadas e esses mesmos hostels estão há pouca distância do centro."
      ]
    },
    {
      "cell_type": "markdown",
      "metadata": {
        "id": "1gudYWPzB73Q"
      },
      "source": [
        "## Apoio a Decisão:"
      ]
    },
    {
      "cell_type": "markdown",
      "metadata": {
        "id": "EySXB9mMCK8R"
      },
      "source": [
        "Nesta parte final vou criar alguns parâmetros para a tomada de decisão e espero que tais parâmetros auxiliem na tomada de decisão de qual hospedagem contratar para ficar em Roma na minha viagem."
      ]
    },
    {
      "cell_type": "code",
      "metadata": {
        "colab": {
          "base_uri": "https://localhost:8080/",
          "height": 206
        },
        "id": "H9vCJK9ih-rb",
        "outputId": "2231cff5-1ba4-4ec3-f909-4c9c12b472b2"
      },
      "source": [
        "df_rome.head()"
      ],
      "execution_count": 12,
      "outputs": [
        {
          "output_type": "execute_result",
          "data": {
            "text/html": [
              "<div>\n",
              "<style scoped>\n",
              "    .dataframe tbody tr th:only-of-type {\n",
              "        vertical-align: middle;\n",
              "    }\n",
              "\n",
              "    .dataframe tbody tr th {\n",
              "        vertical-align: top;\n",
              "    }\n",
              "\n",
              "    .dataframe thead th {\n",
              "        text-align: right;\n",
              "    }\n",
              "</style>\n",
              "<table border=\"1\" class=\"dataframe\">\n",
              "  <thead>\n",
              "    <tr style=\"text-align: right;\">\n",
              "      <th></th>\n",
              "      <th>nome</th>\n",
              "      <th>distancia_centro</th>\n",
              "      <th>nota</th>\n",
              "      <th>aval_num</th>\n",
              "      <th>preco</th>\n",
              "      <th>link</th>\n",
              "    </tr>\n",
              "  </thead>\n",
              "  <tbody>\n",
              "    <tr>\n",
              "      <th>0</th>\n",
              "      <td>YellowSquare Rome</td>\n",
              "      <td>1.8</td>\n",
              "      <td>8.9</td>\n",
              "      <td>20269</td>\n",
              "      <td>14.49</td>\n",
              "      <td>https://www.hostelworld.com/hosteldetails.php/...</td>\n",
              "    </tr>\n",
              "    <tr>\n",
              "      <th>1</th>\n",
              "      <td>The RomeHello Hostel</td>\n",
              "      <td>1.0</td>\n",
              "      <td>9.6</td>\n",
              "      <td>1978</td>\n",
              "      <td>19.05</td>\n",
              "      <td>https://www.hostelworld.com/hosteldetails.php/...</td>\n",
              "    </tr>\n",
              "    <tr>\n",
              "      <th>2</th>\n",
              "      <td>Free Hostels Roma</td>\n",
              "      <td>2.3</td>\n",
              "      <td>9.3</td>\n",
              "      <td>499</td>\n",
              "      <td>18.11</td>\n",
              "      <td>https://www.hostelworld.com/hosteldetails.php/...</td>\n",
              "    </tr>\n",
              "    <tr>\n",
              "      <th>3</th>\n",
              "      <td>Alessandro Palace &amp; Bar</td>\n",
              "      <td>1.8</td>\n",
              "      <td>8.4</td>\n",
              "      <td>12631</td>\n",
              "      <td>15.62</td>\n",
              "      <td>https://www.hostelworld.com/hosteldetails.php/...</td>\n",
              "    </tr>\n",
              "    <tr>\n",
              "      <th>4</th>\n",
              "      <td>Freedom Traveller</td>\n",
              "      <td>1.5</td>\n",
              "      <td>8.0</td>\n",
              "      <td>6606</td>\n",
              "      <td>13.58</td>\n",
              "      <td>https://www.hostelworld.com/hosteldetails.php/...</td>\n",
              "    </tr>\n",
              "  </tbody>\n",
              "</table>\n",
              "</div>"
            ],
            "text/plain": [
              "                      nome  ...                                               link\n",
              "0        YellowSquare Rome  ...  https://www.hostelworld.com/hosteldetails.php/...\n",
              "1     The RomeHello Hostel  ...  https://www.hostelworld.com/hosteldetails.php/...\n",
              "2        Free Hostels Roma  ...  https://www.hostelworld.com/hosteldetails.php/...\n",
              "3  Alessandro Palace & Bar  ...  https://www.hostelworld.com/hosteldetails.php/...\n",
              "4        Freedom Traveller  ...  https://www.hostelworld.com/hosteldetails.php/...\n",
              "\n",
              "[5 rows x 6 columns]"
            ]
          },
          "metadata": {},
          "execution_count": 12
        }
      ]
    },
    {
      "cell_type": "code",
      "metadata": {
        "colab": {
          "base_uri": "https://localhost:8080/",
          "height": 423
        },
        "id": "sjWiPLwHi-Zg",
        "outputId": "080abfb6-eaee-43b7-a693-ec71930d1f0d"
      },
      "source": [
        "# Crio então uma nova coluna resultante da razão entre nota e preço.\n",
        "df_rome['razao_nota_preco'] = df_rome['nota'] / df_rome['preco']\n",
        "\n",
        "# Ordeno o dataframe de acordo com essa nova coluna.\n",
        "df_rome = df_rome.sort_values('razao_nota_preco', ascending=False)\n",
        "\n",
        "# Desta forma consigo identificar as melhores relações entre nota alta e preço baixo, aspectos que mais influenciam minhas decisões.\n",
        "df_rome"
      ],
      "execution_count": 13,
      "outputs": [
        {
          "output_type": "execute_result",
          "data": {
            "text/html": [
              "<div>\n",
              "<style scoped>\n",
              "    .dataframe tbody tr th:only-of-type {\n",
              "        vertical-align: middle;\n",
              "    }\n",
              "\n",
              "    .dataframe tbody tr th {\n",
              "        vertical-align: top;\n",
              "    }\n",
              "\n",
              "    .dataframe thead th {\n",
              "        text-align: right;\n",
              "    }\n",
              "</style>\n",
              "<table border=\"1\" class=\"dataframe\">\n",
              "  <thead>\n",
              "    <tr style=\"text-align: right;\">\n",
              "      <th></th>\n",
              "      <th>nome</th>\n",
              "      <th>distancia_centro</th>\n",
              "      <th>nota</th>\n",
              "      <th>aval_num</th>\n",
              "      <th>preco</th>\n",
              "      <th>link</th>\n",
              "      <th>razao_nota_preco</th>\n",
              "    </tr>\n",
              "  </thead>\n",
              "  <tbody>\n",
              "    <tr>\n",
              "      <th>70</th>\n",
              "      <td>Marco e Laura B&amp;B</td>\n",
              "      <td>3.3</td>\n",
              "      <td>9.2</td>\n",
              "      <td>16</td>\n",
              "      <td>4.08</td>\n",
              "      <td>https://www.hostelworld.com/hosteldetails.php/...</td>\n",
              "      <td>2.254902</td>\n",
              "    </tr>\n",
              "    <tr>\n",
              "      <th>41</th>\n",
              "      <td>Ostello Bello Roma Colosseo</td>\n",
              "      <td>1.7</td>\n",
              "      <td>10.0</td>\n",
              "      <td>3</td>\n",
              "      <td>5.55</td>\n",
              "      <td>https://www.hostelworld.com/hosteldetails.php/...</td>\n",
              "      <td>1.801802</td>\n",
              "    </tr>\n",
              "    <tr>\n",
              "      <th>64</th>\n",
              "      <td>Roma Camping in Town</td>\n",
              "      <td>6.5</td>\n",
              "      <td>10.0</td>\n",
              "      <td>4863</td>\n",
              "      <td>9.06</td>\n",
              "      <td>https://www.hostelworld.com/hosteldetails.php/...</td>\n",
              "      <td>1.103753</td>\n",
              "    </tr>\n",
              "    <tr>\n",
              "      <th>50</th>\n",
              "      <td>Des Artistes Budget Rooms</td>\n",
              "      <td>1.9</td>\n",
              "      <td>8.7</td>\n",
              "      <td>2588</td>\n",
              "      <td>13.58</td>\n",
              "      <td>https://www.hostelworld.com/hosteldetails.php/...</td>\n",
              "      <td>0.640648</td>\n",
              "    </tr>\n",
              "    <tr>\n",
              "      <th>15</th>\n",
              "      <td>Legends</td>\n",
              "      <td>1.5</td>\n",
              "      <td>8.5</td>\n",
              "      <td>4907</td>\n",
              "      <td>13.47</td>\n",
              "      <td>https://www.hostelworld.com/hosteldetails.php/...</td>\n",
              "      <td>0.631032</td>\n",
              "    </tr>\n",
              "    <tr>\n",
              "      <th>...</th>\n",
              "      <td>...</td>\n",
              "      <td>...</td>\n",
              "      <td>...</td>\n",
              "      <td>...</td>\n",
              "      <td>...</td>\n",
              "      <td>...</td>\n",
              "      <td>...</td>\n",
              "    </tr>\n",
              "    <tr>\n",
              "      <th>117</th>\n",
              "      <td>Seven Guest Rooms</td>\n",
              "      <td>0.9</td>\n",
              "      <td>0.0</td>\n",
              "      <td>0</td>\n",
              "      <td>25.29</td>\n",
              "      <td>https://www.hostelworld.com/hosteldetails.php/...</td>\n",
              "      <td>0.000000</td>\n",
              "    </tr>\n",
              "    <tr>\n",
              "      <th>118</th>\n",
              "      <td>Hotel delle Muse</td>\n",
              "      <td>3.5</td>\n",
              "      <td>0.0</td>\n",
              "      <td>6</td>\n",
              "      <td>31.15</td>\n",
              "      <td>https://www.hostelworld.com/hosteldetails.php/...</td>\n",
              "      <td>0.000000</td>\n",
              "    </tr>\n",
              "    <tr>\n",
              "      <th>120</th>\n",
              "      <td>B&amp;B Bed in Roma</td>\n",
              "      <td>1.8</td>\n",
              "      <td>0.0</td>\n",
              "      <td>12</td>\n",
              "      <td>26.04</td>\n",
              "      <td>https://www.hostelworld.com/hosteldetails.php/...</td>\n",
              "      <td>0.000000</td>\n",
              "    </tr>\n",
              "    <tr>\n",
              "      <th>121</th>\n",
              "      <td>Abbraccia Morfeo B&amp;B</td>\n",
              "      <td>5.5</td>\n",
              "      <td>0.0</td>\n",
              "      <td>18</td>\n",
              "      <td>22.58</td>\n",
              "      <td>https://www.hostelworld.com/hosteldetails.php/...</td>\n",
              "      <td>0.000000</td>\n",
              "    </tr>\n",
              "    <tr>\n",
              "      <th>149</th>\n",
              "      <td>Casa Vacanze Nonno Giulio</td>\n",
              "      <td>1.8</td>\n",
              "      <td>0.0</td>\n",
              "      <td>2</td>\n",
              "      <td>31.13</td>\n",
              "      <td>https://www.hostelworld.com/hosteldetails.php/...</td>\n",
              "      <td>0.000000</td>\n",
              "    </tr>\n",
              "  </tbody>\n",
              "</table>\n",
              "<p>150 rows × 7 columns</p>\n",
              "</div>"
            ],
            "text/plain": [
              "                            nome  ...  razao_nota_preco\n",
              "70             Marco e Laura B&B  ...          2.254902\n",
              "41   Ostello Bello Roma Colosseo  ...          1.801802\n",
              "64          Roma Camping in Town  ...          1.103753\n",
              "50     Des Artistes Budget Rooms  ...          0.640648\n",
              "15                       Legends  ...          0.631032\n",
              "..                           ...  ...               ...\n",
              "117            Seven Guest Rooms  ...          0.000000\n",
              "118             Hotel delle Muse  ...          0.000000\n",
              "120              B&B Bed in Roma  ...          0.000000\n",
              "121         Abbraccia Morfeo B&B  ...          0.000000\n",
              "149    Casa Vacanze Nonno Giulio  ...          0.000000\n",
              "\n",
              "[150 rows x 7 columns]"
            ]
          },
          "metadata": {},
          "execution_count": 13
        }
      ]
    },
    {
      "cell_type": "code",
      "metadata": {
        "colab": {
          "base_uri": "https://localhost:8080/"
        },
        "id": "meeWffCRphgk",
        "outputId": "1f79652a-ee9a-40cd-f010-7230fc6dc2be"
      },
      "source": [
        "# Confirmo o tipo de data presente na nova coluna. Sendo float consigo filtrar as linhas/hostels de forma condicional à razão criada.\n",
        "df_rome.info()"
      ],
      "execution_count": 14,
      "outputs": [
        {
          "output_type": "stream",
          "name": "stdout",
          "text": [
            "<class 'pandas.core.frame.DataFrame'>\n",
            "Int64Index: 150 entries, 70 to 149\n",
            "Data columns (total 7 columns):\n",
            " #   Column            Non-Null Count  Dtype  \n",
            "---  ------            --------------  -----  \n",
            " 0   nome              150 non-null    object \n",
            " 1   distancia_centro  150 non-null    float64\n",
            " 2   nota              150 non-null    float64\n",
            " 3   aval_num          150 non-null    int64  \n",
            " 4   preco             150 non-null    float64\n",
            " 5   link              150 non-null    object \n",
            " 6   razao_nota_preco  150 non-null    float64\n",
            "dtypes: float64(4), int64(1), object(2)\n",
            "memory usage: 9.4+ KB\n"
          ]
        }
      ]
    },
    {
      "cell_type": "code",
      "metadata": {
        "colab": {
          "base_uri": "https://localhost:8080/",
          "height": 143
        },
        "id": "6xERajaOqwSS",
        "outputId": "f6c0e70f-248d-47c9-9484-ab909de98d60"
      },
      "source": [
        "# Filtro, então, o dataframe para apresentar apenas as 3 melhores opções dentro dos parâmetros estabelecidos.\n",
        "df_rome = df_rome.drop(df_rome[df_rome.razao_nota_preco < 0.8].index)\n",
        "df_rome"
      ],
      "execution_count": 15,
      "outputs": [
        {
          "output_type": "execute_result",
          "data": {
            "text/html": [
              "<div>\n",
              "<style scoped>\n",
              "    .dataframe tbody tr th:only-of-type {\n",
              "        vertical-align: middle;\n",
              "    }\n",
              "\n",
              "    .dataframe tbody tr th {\n",
              "        vertical-align: top;\n",
              "    }\n",
              "\n",
              "    .dataframe thead th {\n",
              "        text-align: right;\n",
              "    }\n",
              "</style>\n",
              "<table border=\"1\" class=\"dataframe\">\n",
              "  <thead>\n",
              "    <tr style=\"text-align: right;\">\n",
              "      <th></th>\n",
              "      <th>nome</th>\n",
              "      <th>distancia_centro</th>\n",
              "      <th>nota</th>\n",
              "      <th>aval_num</th>\n",
              "      <th>preco</th>\n",
              "      <th>link</th>\n",
              "      <th>razao_nota_preco</th>\n",
              "    </tr>\n",
              "  </thead>\n",
              "  <tbody>\n",
              "    <tr>\n",
              "      <th>70</th>\n",
              "      <td>Marco e Laura B&amp;B</td>\n",
              "      <td>3.3</td>\n",
              "      <td>9.2</td>\n",
              "      <td>16</td>\n",
              "      <td>4.08</td>\n",
              "      <td>https://www.hostelworld.com/hosteldetails.php/...</td>\n",
              "      <td>2.254902</td>\n",
              "    </tr>\n",
              "    <tr>\n",
              "      <th>41</th>\n",
              "      <td>Ostello Bello Roma Colosseo</td>\n",
              "      <td>1.7</td>\n",
              "      <td>10.0</td>\n",
              "      <td>3</td>\n",
              "      <td>5.55</td>\n",
              "      <td>https://www.hostelworld.com/hosteldetails.php/...</td>\n",
              "      <td>1.801802</td>\n",
              "    </tr>\n",
              "    <tr>\n",
              "      <th>64</th>\n",
              "      <td>Roma Camping in Town</td>\n",
              "      <td>6.5</td>\n",
              "      <td>10.0</td>\n",
              "      <td>4863</td>\n",
              "      <td>9.06</td>\n",
              "      <td>https://www.hostelworld.com/hosteldetails.php/...</td>\n",
              "      <td>1.103753</td>\n",
              "    </tr>\n",
              "  </tbody>\n",
              "</table>\n",
              "</div>"
            ],
            "text/plain": [
              "                           nome  ...  razao_nota_preco\n",
              "70            Marco e Laura B&B  ...          2.254902\n",
              "41  Ostello Bello Roma Colosseo  ...          1.801802\n",
              "64         Roma Camping in Town  ...          1.103753\n",
              "\n",
              "[3 rows x 7 columns]"
            ]
          },
          "metadata": {},
          "execution_count": 15
        }
      ]
    },
    {
      "cell_type": "markdown",
      "metadata": {
        "id": "BBy092pWxZCp"
      },
      "source": [
        "- Importante ressaltar que eu poderia ter apenas escolhido o hostel que apresentasse a melhor razão nota/preço, mas prefiro deixar a decisão final ser tomada por um ser humano (eu) com opções pois acredito que um pouco de intuição faz parte da experiência de conhecer novos lugares."
      ]
    },
    {
      "cell_type": "code",
      "metadata": {
        "colab": {
          "base_uri": "https://localhost:8080/"
        },
        "id": "FdNbc-tD5BOM",
        "outputId": "970cdf8e-6f9e-4622-be7a-7f3afa64ce7c"
      },
      "source": [
        "# Abaixo, o link (clicável) dos hostels selecionados para minha avaliação futura.\n",
        "\n",
        "for i in df_rome['link']:\n",
        " print(i)"
      ],
      "execution_count": 16,
      "outputs": [
        {
          "output_type": "stream",
          "name": "stdout",
          "text": [
            "https://www.hostelworld.com/hosteldetails.php/Marco-e-Laura-B-and-B/Rome/71593\n",
            "https://www.hostelworld.com/hosteldetails.php/Ostello-Bello-Roma-Colosseo/Rome/311605\n",
            "https://www.hostelworld.com/hosteldetails.php/Roma-Camping-in-Town/Rome/6268\n"
          ]
        }
      ]
    }
  ]
}